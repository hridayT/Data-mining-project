{
 "cells": [
  {
   "cell_type": "markdown",
   "metadata": {},
   "source": [
    "## Fitting a given degree distribution to a power-law distribution\n",
    "\n",
    "The fitting will be carried out with the aim of establishing whether the power-law distribution is a plausible distribution of the degree distribution\n",
    "\n",
    "**Implementation of Clauset, Shalizi, Newman**"
   ]
  },
  {
   "cell_type": "code",
   "execution_count": 2,
   "metadata": {},
   "outputs": [],
   "source": [
    "import numpy as np\n",
    "import scipy.stats as st\n",
    "import matplotlib.pyplot as plt"
   ]
  },
  {
   "cell_type": "code",
   "execution_count": 3,
   "metadata": {},
   "outputs": [],
   "source": [
    "import powerlaw"
   ]
  },
  {
   "cell_type": "markdown",
   "metadata": {},
   "source": [
    "## Framework\n",
    "\n",
    "There are largely four parts to this project and they are as follows:\n",
    "1. Modeling of the ATP data as a graph\n",
    "2. Quantitative rigour in discerning the degree distribution of the network\n",
    "3. Studying the major graph statistics (local and global) over time\n",
    "4. Testing generative mechanisms of our own so as to arrive at the observed degree distribution (_not so rigorously_)"
   ]
  },
  {
   "cell_type": "markdown",
   "metadata": {},
   "source": [
    "Below is an implementation of the rigorous test of whether the given (observed) distribution is indeed Power-law and whether the power-law distribution is plausible (and better than others)"
   ]
  },
  {
   "cell_type": "code",
   "execution_count": 6,
   "metadata": {},
   "outputs": [],
   "source": [
    "def start(dist):\n",
    "    \"\"\"\n",
    "    The rigorous test begins here\n",
    "    Parameters\n",
    "    ------------\n",
    "    dist: The input distribution to be tested and characterized\n",
    "    \"\"\"\n",
    "    fit = powerlaw.Fit(dist,verbose=False,xmin=6,discrete=True)\n",
    "    print(\"Xmin found\",fit.xmin)\n",
    "    print(\"alpha is \",fit.power_law.alpha)\n",
    "    print(\"KS statistic: \",fit.power_law.D)\n",
    "    print(\"power_law vs Exponential\")\n",
    "    print(\"loglikelihood ratio and the p value for the distribution comparison are: \",fit.distribution_compare('power_law','exponential'))\n",
    "    print(\"power_law vs lognormal\")\n",
    "    print(\"loglikelihood ratio and the p value for the distribution comparison are: \",fit.distribution_compare('power_law','lognormal'))\n",
    "    print(\"power_law vs truncated powerlaw\")\n",
    "    print(\"loglikelihood ratio and the p value for the distribution comparison are: \",fit.distribution_compare('power_law','truncated_power_law'))"
   ]
  },
  {
   "cell_type": "code",
   "execution_count": 4,
   "metadata": {},
   "outputs": [],
   "source": [
    "dist = np.loadtxt('Simplicial_deg.txt')"
   ]
  },
  {
   "cell_type": "code",
   "execution_count": 71,
   "metadata": {},
   "outputs": [],
   "source": [
    "dist1 = np.loadtxt('No_Tri_deg.txt',dtype=float)"
   ]
  },
  {
   "cell_type": "code",
   "execution_count": 73,
   "metadata": {},
   "outputs": [],
   "source": [
    "dist2 = np.loadtxt('Tri_deg.txt',dtype=float)"
   ]
  },
  {
   "cell_type": "code",
   "execution_count": 7,
   "metadata": {},
   "outputs": [
    {
     "name": "stderr",
     "output_type": "stream",
     "text": [
      "C:\\ProgramData\\Anaconda3\\lib\\site-packages\\powerlaw.py:700: RuntimeWarning: invalid value encountered in true_divide\n",
      "  (Theoretical_CDF * (1 - Theoretical_CDF))\n"
     ]
    },
    {
     "name": "stdout",
     "output_type": "stream",
     "text": [
      "Xmin found 6.0\n",
      "alpha is  1.558159596340245\n",
      "KS statistic:  0.09668004413349918\n",
      "power_law vs Exponential\n",
      "loglikelihood ratio and the p value for the distribution comparison are:  (121.44999191904452, 0.012743911695530697)\n",
      "power_law vs lognormal\n",
      "loglikelihood ratio and the p value for the distribution comparison are: "
     ]
    },
    {
     "name": "stderr",
     "output_type": "stream",
     "text": [
      "Assuming nested distributions\n"
     ]
    },
    {
     "name": "stdout",
     "output_type": "stream",
     "text": [
      " (-244.79693272542193, 1.0898410696962954e-43)\n",
      "power_law vs truncated powerlaw\n",
      "loglikelihood ratio and the p value for the distribution comparison are:  (-359.06657234165317, 0.0)\n"
     ]
    }
   ],
   "source": [
    "start(dist)"
   ]
  },
  {
   "cell_type": "markdown",
   "metadata": {},
   "source": [
    "### References\n",
    "\n",
    "Broido, Anna D., and Aaron Clauset. \"Scale-free networks are rare.\" arXiv preprint arXiv:1801.03400 (2018).\n",
    "\n",
    "Clauset, Aaron, Cosma Rohilla Shalizi, and Mark EJ Newman. \"Power-law distributions in empirical data.\" SIAM review 51.4 (2009): 661-703."
   ]
  }
 ],
 "metadata": {
  "kernelspec": {
   "display_name": "Python 3",
   "language": "python",
   "name": "python3"
  },
  "language_info": {
   "codemirror_mode": {
    "name": "ipython",
    "version": 3
   },
   "file_extension": ".py",
   "mimetype": "text/x-python",
   "name": "python",
   "nbconvert_exporter": "python",
   "pygments_lexer": "ipython3",
   "version": "3.7.0"
  }
 },
 "nbformat": 4,
 "nbformat_minor": 2
}
